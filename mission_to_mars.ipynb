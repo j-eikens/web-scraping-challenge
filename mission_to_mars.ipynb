{
 "cells": [
  {
   "cell_type": "code",
   "execution_count": 1,
   "id": "1548dfed",
   "metadata": {},
   "outputs": [],
   "source": [
    "from splinter import Browser\n",
    "from bs4 import BeautifulSoup\n",
    "from webdriver_manager.chrome import ChromeDriverManager\n",
    "import requests\n",
    "import pandas as pd"
   ]
  },
  {
   "cell_type": "code",
   "execution_count": null,
   "id": "24ee1134",
   "metadata": {},
   "outputs": [],
   "source": [
    "#scraping news_title and news_p\n",
    "executable_path = {'executable_path': ChromeDriverManager().install()}\n",
    "browser = Browser('chrome', **executable_path, headless=False)\n",
    "\n",
    "url = 'https://redplanetscience.com/'\n",
    "browser.visit(url)\n",
    "\n",
    "html = browser.html\n",
    "soup = BeautifulSoup(html, 'html.parser')\n",
    "\n",
    "articles = soup.find_all('div', class_='content_title')\n",
    "teaser = soup.find_all('div', class_='article_teaser_body')\n",
    "\n",
    "news_title = []\n",
    "news_p = []\n",
    "\n",
    "for i in articles:\n",
    "    \n",
    "    title = i.text\n",
    "    news_title.append(title)\n",
    "    \n",
    "for i in teaser:\n",
    "    \n",
    "    teaser_element = i.text\n",
    "    news_p.append(teaser_element)\n",
    "    \n",
    "browser.quit()"
   ]
  },
  {
   "cell_type": "code",
   "execution_count": null,
   "id": "f6e46e1b",
   "metadata": {},
   "outputs": [],
   "source": [
    "#scrapping featured image\n",
    "executable_path = {'executable_path': ChromeDriverManager().install()}\n",
    "browser = Browser('chrome', **executable_path, headless=False)\n",
    "\n",
    "url = 'https://spaceimages-mars.com/'\n",
    "browser.visit(url)\n",
    "\n",
    "browser.links.find_by_partial_text('FULL IMAGE').click()\n",
    "\n",
    "html = browser.html\n",
    "soup = BeautifulSoup(html, 'html.parser')\n",
    "\n",
    "image = soup.find_all('img', class_='fancybox-image')\n",
    "\n",
    "for i in image:\n",
    "    featured_image = i['src']\n",
    "    \n",
    "featured_image_url = f'{url}{featured_image}'\n",
    "\n",
    "browser.quit()"
   ]
  },
  {
   "cell_type": "code",
   "execution_count": null,
   "id": "906bb929",
   "metadata": {},
   "outputs": [],
   "source": [
    "#scrapping Mars facts\n",
    "url = 'https://galaxyfacts-mars.com/'\n",
    "tables = pd.read_html(url)\n",
    "mars_table = tables[1]\n",
    "html_table = mars_table.to_html()"
   ]
  },
  {
   "cell_type": "code",
   "execution_count": null,
   "id": "49c42b50",
   "metadata": {},
   "outputs": [],
   "source": []
  },
  {
   "cell_type": "code",
   "execution_count": 2,
   "id": "8643d8b8",
   "metadata": {},
   "outputs": [],
   "source": [
    "#scrapping Mars Hemispheres\n",
    "executable_path = {'executable_path': ChromeDriverManager().install()}\n",
    "browser = Browser('chrome', **executable_path, headless=False)\n",
    "\n",
    "url = 'https://marshemispheres.com/'\n",
    "browser.visit(url)\n",
    "\n",
    "html = browser.html\n",
    "soup = BeautifulSoup(html, 'html.parser')\n",
    "\n",
    "\n",
    "#create title list\n",
    "div = soup.find_all('div', class_='item')\n",
    "\n",
    "title_list = []\n",
    "\n",
    "for i in div:\n",
    "    desc = i.find('div', class_='description')\n",
    "    title_full = desc.find('h3').text\n",
    "    title = title_full.replace(\" Enhanced\", \"\")\n",
    "    \n",
    "    title_list.append(title)\n",
    "\n",
    "\n",
    "#storing image urls in image_url_list\n",
    "image_url_list = []\n",
    "\n",
    "for title in title_list:\n",
    "    browser.links.find_by_partial_text(title).click()\n",
    "    \n",
    "    html = browser.html\n",
    "    soup = BeautifulSoup(html, 'html.parser')\n",
    "    \n",
    "    #find image URL\n",
    "    image = soup.find_all('div', class_='downloads')\n",
    "\n",
    "\n",
    "\n",
    "    for i in image:\n",
    "        li = i.find('li')\n",
    "        a = li.find('a')\n",
    "        link = a['href']\n",
    "    \n",
    "        image_url = f'{url}{link}'\n",
    "    \n",
    "        image_url_list.append(image_url)\n",
    "    \n",
    "    browser.links.find_by_partial_text('Back').click()\n",
    " \n",
    "browser.quit()"
   ]
  },
  {
   "cell_type": "code",
   "execution_count": 3,
   "id": "98637511",
   "metadata": {},
   "outputs": [
    {
     "data": {
      "text/plain": [
       "['https://marshemispheres.com/images/full.jpg',\n",
       " 'https://marshemispheres.com/images/schiaparelli_enhanced-full.jpg',\n",
       " 'https://marshemispheres.com/images/syrtis_major_enhanced-full.jpg',\n",
       " 'https://marshemispheres.com/images/valles_marineris_enhanced-full.jpg']"
      ]
     },
     "execution_count": 3,
     "metadata": {},
     "output_type": "execute_result"
    }
   ],
   "source": [
    "image_url_list"
   ]
  },
  {
   "cell_type": "code",
   "execution_count": 4,
   "id": "a0a1fd06",
   "metadata": {},
   "outputs": [
    {
     "data": {
      "text/plain": [
       "['Cerberus Hemisphere',\n",
       " 'Schiaparelli Hemisphere',\n",
       " 'Syrtis Major Hemisphere',\n",
       " 'Valles Marineris Hemisphere']"
      ]
     },
     "execution_count": 4,
     "metadata": {},
     "output_type": "execute_result"
    }
   ],
   "source": [
    "title_list"
   ]
  },
  {
   "cell_type": "code",
   "execution_count": null,
   "id": "91c2fa33",
   "metadata": {},
   "outputs": [],
   "source": []
  }
 ],
 "metadata": {
  "kernelspec": {
   "display_name": "Python 3 (ipykernel)",
   "language": "python",
   "name": "python3"
  },
  "language_info": {
   "codemirror_mode": {
    "name": "ipython",
    "version": 3
   },
   "file_extension": ".py",
   "mimetype": "text/x-python",
   "name": "python",
   "nbconvert_exporter": "python",
   "pygments_lexer": "ipython3",
   "version": "3.8.13"
  }
 },
 "nbformat": 4,
 "nbformat_minor": 5
}
