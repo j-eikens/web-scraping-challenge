{
 "cells": [
  {
   "cell_type": "code",
   "execution_count": 1,
   "id": "1548dfed",
   "metadata": {},
   "outputs": [],
   "source": [
    "from splinter import Browser\n",
    "from bs4 import BeautifulSoup\n",
    "from webdriver_manager.chrome import ChromeDriverManager\n",
    "import requests\n",
    "import pandas as pd"
   ]
  },
  {
   "cell_type": "code",
   "execution_count": 2,
   "id": "13703579",
   "metadata": {},
   "outputs": [],
   "source": [
    "#scraping news_title and news_p\n",
    "executable_path = {'executable_path': ChromeDriverManager().install()}\n",
    "browser = Browser('chrome', **executable_path, headless=False)\n",
    "\n",
    "url = 'https://redplanetscience.com/'\n",
    "browser.visit(url)\n",
    "\n",
    "html = browser.html\n",
    "soup = BeautifulSoup(html, 'html.parser')\n",
    "\n",
    "news_title = articles = soup.find_all('div', class_='content_title')[0].text\n",
    "news_p = soup.find_all('div', class_='article_teaser_body')[0].text\n",
    "   \n",
    "browser.quit()"
   ]
  },
  {
   "cell_type": "code",
   "execution_count": 3,
   "id": "2a830653",
   "metadata": {},
   "outputs": [],
   "source": [
    "#scrapping featured image\n",
    "executable_path = {'executable_path': ChromeDriverManager().install()}\n",
    "browser = Browser('chrome', **executable_path, headless=False)\n",
    "\n",
    "url = 'https://spaceimages-mars.com/'\n",
    "browser.visit(url)\n",
    "\n",
    "browser.links.find_by_partial_text('FULL IMAGE').click()\n",
    "\n",
    "html = browser.html\n",
    "soup = BeautifulSoup(html, 'html.parser')\n",
    "\n",
    "image = soup.find_all('img', class_='fancybox-image')[0]['src']\n",
    "    \n",
    "featured_image_url = f'{url}{image}'\n",
    "\n",
    "browser.quit()"
   ]
  },
  {
   "cell_type": "code",
   "execution_count": 40,
   "id": "035dfa82",
   "metadata": {},
   "outputs": [],
   "source": [
    "#scrapping Mars facts\n",
    "url = 'https://galaxyfacts-mars.com/'\n",
    "tables = pd.read_html(url)\n",
    "mars_table = tables[0]\n",
    "mars_table = mars_table.rename({0: \"Description\", 1:\"Mars\", 2:\"Earth\" }, axis='columns')\n",
    "mars_table = mars_table.set_index('Description')\n",
    "html_table = mars_table.to_html()"
   ]
  },
  {
   "cell_type": "code",
   "execution_count": null,
   "id": "e44d6fc5",
   "metadata": {},
   "outputs": [],
   "source": []
  },
  {
   "cell_type": "code",
   "execution_count": null,
   "id": "261d4985",
   "metadata": {},
   "outputs": [],
   "source": [
    "#scrapping Mars Hemispheres\n",
    "executable_path = {'executable_path': ChromeDriverManager().install()}\n",
    "browser = Browser('chrome', **executable_path, headless=False)\n",
    "\n",
    "url = 'https://marshemispheres.com/'\n",
    "browser.visit(url)\n",
    "\n",
    "html = browser.html\n",
    "soup = BeautifulSoup(html, 'html.parser')\n",
    "\n",
    "\n",
    "#create title list\n",
    "div = soup.find_all('div', class_='item')\n",
    "\n",
    "title_list = []\n",
    "\n",
    "for i in div:\n",
    "    desc = i.find('div', class_='description')\n",
    "    title_full = desc.find('h3').text\n",
    "    title = title_full.replace(\" Enhanced\", \"\")\n",
    "    \n",
    "    title_list.append(title)\n",
    "\n",
    "\n",
    "#storing image urls in image_url_list\n",
    "image_url_list = []\n",
    "\n",
    "for title in title_list:\n",
    "    browser.links.find_by_partial_text(title).click()\n",
    "    \n",
    "    html = browser.html\n",
    "    soup = BeautifulSoup(html, 'html.parser')\n",
    "    \n",
    "    #find image URL\n",
    "    image = soup.find_all('div', class_='downloads')\n",
    "\n",
    "\n",
    "\n",
    "    for i in image:\n",
    "        li = i.find('li')\n",
    "        a = li.find('a')\n",
    "        link = a['href']\n",
    "    \n",
    "        image_url = f'{url}{link}'\n",
    "    \n",
    "        image_url_list.append(image_url)\n",
    "    \n",
    "    browser.links.find_by_partial_text('Back').click()\n",
    " \n",
    "browser.quit()\n",
    "\n",
    "hemisphere_image_urls = []\n",
    "\n",
    "for i in range(len(title_list)):\n",
    "    dict = {'title': title_list[i], 'img_url':image_url_list[i]}\n",
    "        \n",
    "    hemisphere_image_urls.append(dict)"
   ]
  },
  {
   "cell_type": "code",
   "execution_count": null,
   "id": "f1f62815",
   "metadata": {},
   "outputs": [],
   "source": []
  },
  {
   "cell_type": "code",
   "execution_count": null,
   "id": "3257f23a",
   "metadata": {},
   "outputs": [],
   "source": [
    "# creating final dictionary\n",
    "mars_dict = {}\n",
    "mars_dict['news_title'] = news_title\n",
    "mars_dict['news_p'] = news_p\n",
    "mars_dict['featured_img_url'] = featured_image_url\n",
    "mars_dict['hemisphere_img_url'] = hemisphere_image_urls\n",
    "mars_dict['table'] = html_table"
   ]
  },
  {
   "cell_type": "code",
   "execution_count": null,
   "id": "195b596e",
   "metadata": {},
   "outputs": [],
   "source": [
    "mars_dict"
   ]
  },
  {
   "cell_type": "code",
   "execution_count": null,
   "id": "30aacc79",
   "metadata": {},
   "outputs": [],
   "source": []
  }
 ],
 "metadata": {
  "kernelspec": {
   "display_name": "Python 3 (ipykernel)",
   "language": "python",
   "name": "python3"
  },
  "language_info": {
   "codemirror_mode": {
    "name": "ipython",
    "version": 3
   },
   "file_extension": ".py",
   "mimetype": "text/x-python",
   "name": "python",
   "nbconvert_exporter": "python",
   "pygments_lexer": "ipython3",
   "version": "3.8.13"
  }
 },
 "nbformat": 4,
 "nbformat_minor": 5
}
